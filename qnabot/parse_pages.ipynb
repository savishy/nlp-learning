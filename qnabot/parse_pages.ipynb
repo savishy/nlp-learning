{
 "cells": [
  {
   "cell_type": "markdown",
   "metadata": {},
   "source": [
    "# Parse and Preprocess HTML Pages\n",
    "\n",
    "This notebook demonstrates preprocessing HTML sources for an NLP engine.\n",
    "\n",
    "## Parse and Load HTML Pages\n",
    "\n",
    "1. Get HTML from specific pages of a documentation site. \n",
    "    1. The actual pages are configured in `config.json`.\n",
    "1. Extract HTML content using `BeautifulSoup4`. \n",
    "    1. The parser looks for a `div class=content--main` in the HTML. This works specifically for the configured page but may not work equally well for other pages.\n",
    "1. Get all paragraphs `<p>`\n",
    "\n",
    "## References \n",
    "\n",
    "1. [`get_text` with CSS class](https://www.crummy.com/software/BeautifulSoup/bs4/doc/#get-text)"
   ]
  },
  {
   "cell_type": "code",
   "execution_count": 1,
   "metadata": {},
   "outputs": [
    {
     "name": "stdout",
     "output_type": "stream",
     "text": [
      "https://www.dynatrace.com/support/help/get-started/what-is-dynatrace/\n",
      "1 documents fetched\n",
      "loading 26 paragraphs into dataframe\n"
     ]
    }
   ],
   "source": [
    "from bs4 import BeautifulSoup\n",
    "import json,requests\n",
    "import pandas as pd\n",
    "pd.set_option('display.max_colwidth', 100)\n",
    "\n",
    "with open('config.json','r') as f:\n",
    "    config = json.load(f)\n",
    "\n",
    "topic = 'dynatrace'\n",
    "for page in config[topic]:\n",
    "    print(page)\n",
    "    r = requests.get(page)\n",
    "    soup = BeautifulSoup(r.text,'lxml')\n",
    "    content_main = soup.find_all('div',class_ = 'content--main')\n",
    "    if len(content_main) == 0:\n",
    "        print(f'-- Fetching Content failed for {page}')\n",
    "        continue\n",
    "    else: \n",
    "        print(f'{len(content_main)} documents fetched')\n",
    "\n",
    "    paras = content_main[0].find_all('p')\n",
    "    pretty_paras = [para.get_text() for para in paras]\n",
    "    print(f'loading {len(pretty_paras)} paragraphs into dataframe')\n",
    "    df = pd.DataFrame({'raw_data': pretty_paras})"
   ]
  },
  {
   "cell_type": "markdown",
   "metadata": {},
   "source": [
    "## Load a DataFrame\n",
    "\n",
    "This is how the parsed data looks. "
   ]
  },
  {
   "cell_type": "code",
   "execution_count": 2,
   "metadata": {},
   "outputs": [
    {
     "name": "stdout",
     "output_type": "stream",
     "text": [
      "-- dataframe is size 26\n",
      "First element:\n",
      "Dynatrace is a software-intelligence monitoring platform that simplifies enterprise cloud complexity and accelerates digital transformation. With Davis (the Dynatrace AI causation engine) and complete automation, the Dynatrace all-in-one platform provides answers, not just data, about the performance of your applications, their underlying infrastructure, and the experience of your end users. Dynatrace is used to modernize and automate enterprise cloud operations, release higher-quality software faster, and deliver optimum digital experiences to your organization's customers.\n"
     ]
    }
   ],
   "source": [
    "print(f'-- dataframe is size {len(df)}')\n",
    "print(f'First element:\\n{df.iloc[0].raw_data}')"
   ]
  },
  {
   "cell_type": "markdown",
   "metadata": {},
   "source": [
    "## Remove Punctuations\n",
    "\n",
    "1. Removing punctuations is best done as the first step"
   ]
  },
  {
   "cell_type": "code",
   "execution_count": 3,
   "metadata": {},
   "outputs": [
    {
     "name": "stdout",
     "output_type": "stream",
     "text": [
      "raw_data             Dynatrace is a software-intelligence monitoring platform that simplifies enterprise cloud comple...\n",
      "remove_punct_data    Dynatrace is a softwareintelligence monitoring platform that simplifies enterprise cloud complex...\n",
      "Name: 0, dtype: object\n"
     ]
    }
   ],
   "source": [
    "import string\n",
    "def remove_punct(raw_text):\n",
    "    return \"\".join([c for c in raw_text if c not in string.punctuation])\n",
    "\n",
    "df['remove_punct_data'] = df.raw_data.apply(lambda x: remove_punct(x))\n",
    "print(df.iloc[0])"
   ]
  },
  {
   "cell_type": "markdown",
   "metadata": {},
   "source": [
    "## Tokenize\n",
    "\n",
    "1. Create a function that does a simple `string.split()` \n",
    "1. Apply it as a lambda on each row of the dataframe. \n",
    "1. Output is a list of individual words"
   ]
  },
  {
   "cell_type": "code",
   "execution_count": 4,
   "metadata": {},
   "outputs": [
    {
     "data": {
      "text/html": [
       "<div>\n",
       "<style scoped>\n",
       "    .dataframe tbody tr th:only-of-type {\n",
       "        vertical-align: middle;\n",
       "    }\n",
       "\n",
       "    .dataframe tbody tr th {\n",
       "        vertical-align: top;\n",
       "    }\n",
       "\n",
       "    .dataframe thead th {\n",
       "        text-align: right;\n",
       "    }\n",
       "</style>\n",
       "<table border=\"1\" class=\"dataframe\">\n",
       "  <thead>\n",
       "    <tr style=\"text-align: right;\">\n",
       "      <th></th>\n",
       "      <th>raw_data</th>\n",
       "      <th>remove_punct_data</th>\n",
       "      <th>tokenized_data</th>\n",
       "    </tr>\n",
       "  </thead>\n",
       "  <tbody>\n",
       "    <tr>\n",
       "      <th>0</th>\n",
       "      <td>Dynatrace is a software-intelligence monitoring platform that simplifies enterprise cloud comple...</td>\n",
       "      <td>Dynatrace is a softwareintelligence monitoring platform that simplifies enterprise cloud complex...</td>\n",
       "      <td>[Dynatrace, is, a, softwareintelligence, monitoring, platform, that, simplifies, enterprise, clo...</td>\n",
       "    </tr>\n",
       "    <tr>\n",
       "      <th>1</th>\n",
       "      <td>Dynatrace seamlessly brings infrastructure and cloud, application performance, and digital exper...</td>\n",
       "      <td>Dynatrace seamlessly brings infrastructure and cloud application performance and digital experie...</td>\n",
       "      <td>[Dynatrace, seamlessly, brings, infrastructure, and, cloud, application, performance, and, digit...</td>\n",
       "    </tr>\n",
       "    <tr>\n",
       "      <th>2</th>\n",
       "      <td>Dynatrace provides the following capabilities for monitoring and analyzing the performance of al...</td>\n",
       "      <td>Dynatrace provides the following capabilities for monitoring and analyzing the performance of al...</td>\n",
       "      <td>[Dynatrace, provides, the, following, capabilities, for, monitoring, and, analyzing, the, perfor...</td>\n",
       "    </tr>\n",
       "    <tr>\n",
       "      <th>3</th>\n",
       "      <td>Real User Monitoring analyzes the performance of all user interactions with your applications, w...</td>\n",
       "      <td>Real User Monitoring analyzes the performance of all user interactions with your applications wh...</td>\n",
       "      <td>[Real, User, Monitoring, analyzes, the, performance, of, all, user, interactions, with, your, ap...</td>\n",
       "    </tr>\n",
       "    <tr>\n",
       "      <th>4</th>\n",
       "      <td>Dynatrace supports Real User Monitoring for mobile apps as well. The process of monitoring the u...</td>\n",
       "      <td>Dynatrace supports Real User Monitoring for mobile apps as well The process of monitoring the us...</td>\n",
       "      <td>[Dynatrace, supports, Real, User, Monitoring, for, mobile, apps, as, well, The, process, of, mon...</td>\n",
       "    </tr>\n",
       "  </tbody>\n",
       "</table>\n",
       "</div>"
      ],
      "text/plain": [
       "                                                                                              raw_data  \\\n",
       "0  Dynatrace is a software-intelligence monitoring platform that simplifies enterprise cloud comple...   \n",
       "1  Dynatrace seamlessly brings infrastructure and cloud, application performance, and digital exper...   \n",
       "2  Dynatrace provides the following capabilities for monitoring and analyzing the performance of al...   \n",
       "3  Real User Monitoring analyzes the performance of all user interactions with your applications, w...   \n",
       "4  Dynatrace supports Real User Monitoring for mobile apps as well. The process of monitoring the u...   \n",
       "\n",
       "                                                                                     remove_punct_data  \\\n",
       "0  Dynatrace is a softwareintelligence monitoring platform that simplifies enterprise cloud complex...   \n",
       "1  Dynatrace seamlessly brings infrastructure and cloud application performance and digital experie...   \n",
       "2  Dynatrace provides the following capabilities for monitoring and analyzing the performance of al...   \n",
       "3  Real User Monitoring analyzes the performance of all user interactions with your applications wh...   \n",
       "4  Dynatrace supports Real User Monitoring for mobile apps as well The process of monitoring the us...   \n",
       "\n",
       "                                                                                        tokenized_data  \n",
       "0  [Dynatrace, is, a, softwareintelligence, monitoring, platform, that, simplifies, enterprise, clo...  \n",
       "1  [Dynatrace, seamlessly, brings, infrastructure, and, cloud, application, performance, and, digit...  \n",
       "2  [Dynatrace, provides, the, following, capabilities, for, monitoring, and, analyzing, the, perfor...  \n",
       "3  [Real, User, Monitoring, analyzes, the, performance, of, all, user, interactions, with, your, ap...  \n",
       "4  [Dynatrace, supports, Real, User, Monitoring, for, mobile, apps, as, well, The, process, of, mon...  "
      ]
     },
     "execution_count": 4,
     "metadata": {},
     "output_type": "execute_result"
    }
   ],
   "source": [
    "def tokenize(raw_text):\n",
    "    return raw_text.split()\n",
    "\n",
    "df['tokenized_data'] = df.remove_punct_data.apply(lambda x: tokenize(x))\n",
    "df.head()"
   ]
  },
  {
   "cell_type": "markdown",
   "metadata": {},
   "source": [
    "## Remove Stop Words\n",
    "\n",
    "> :bulb: List comprehensions and lambda functions are tremendously helpful in preprocessing!\n",
    "\n",
    "* This uses the corpus of stopwords available in the NLTK. \n",
    "* It needs to be downloaded prior to use (one-time.) "
   ]
  },
  {
   "cell_type": "code",
   "execution_count": 5,
   "metadata": {
    "scrolled": true
   },
   "outputs": [
    {
     "name": "stderr",
     "output_type": "stream",
     "text": [
      "[nltk_data] Downloading package stopwords to /home/savis/nltk_data...\n",
      "[nltk_data]   Package stopwords is already up-to-date!\n"
     ]
    },
    {
     "data": {
      "text/html": [
       "<div>\n",
       "<style scoped>\n",
       "    .dataframe tbody tr th:only-of-type {\n",
       "        vertical-align: middle;\n",
       "    }\n",
       "\n",
       "    .dataframe tbody tr th {\n",
       "        vertical-align: top;\n",
       "    }\n",
       "\n",
       "    .dataframe thead th {\n",
       "        text-align: right;\n",
       "    }\n",
       "</style>\n",
       "<table border=\"1\" class=\"dataframe\">\n",
       "  <thead>\n",
       "    <tr style=\"text-align: right;\">\n",
       "      <th></th>\n",
       "      <th>raw_data</th>\n",
       "      <th>remove_punct_data</th>\n",
       "      <th>tokenized_data</th>\n",
       "      <th>no_stopwords_data</th>\n",
       "    </tr>\n",
       "  </thead>\n",
       "  <tbody>\n",
       "    <tr>\n",
       "      <th>0</th>\n",
       "      <td>Dynatrace is a software-intelligence monitoring platform that simplifies enterprise cloud comple...</td>\n",
       "      <td>Dynatrace is a softwareintelligence monitoring platform that simplifies enterprise cloud complex...</td>\n",
       "      <td>[Dynatrace, is, a, softwareintelligence, monitoring, platform, that, simplifies, enterprise, clo...</td>\n",
       "      <td>[Dynatrace, softwareintelligence, monitoring, platform, simplifies, enterprise, cloud, complexit...</td>\n",
       "    </tr>\n",
       "    <tr>\n",
       "      <th>1</th>\n",
       "      <td>Dynatrace seamlessly brings infrastructure and cloud, application performance, and digital exper...</td>\n",
       "      <td>Dynatrace seamlessly brings infrastructure and cloud application performance and digital experie...</td>\n",
       "      <td>[Dynatrace, seamlessly, brings, infrastructure, and, cloud, application, performance, and, digit...</td>\n",
       "      <td>[Dynatrace, seamlessly, brings, infrastructure, cloud, application, performance, digital, experi...</td>\n",
       "    </tr>\n",
       "    <tr>\n",
       "      <th>2</th>\n",
       "      <td>Dynatrace provides the following capabilities for monitoring and analyzing the performance of al...</td>\n",
       "      <td>Dynatrace provides the following capabilities for monitoring and analyzing the performance of al...</td>\n",
       "      <td>[Dynatrace, provides, the, following, capabilities, for, monitoring, and, analyzing, the, perfor...</td>\n",
       "      <td>[Dynatrace, provides, following, capabilities, monitoring, analyzing, performance, aspects, appl...</td>\n",
       "    </tr>\n",
       "    <tr>\n",
       "      <th>3</th>\n",
       "      <td>Real User Monitoring analyzes the performance of all user interactions with your applications, w...</td>\n",
       "      <td>Real User Monitoring analyzes the performance of all user interactions with your applications wh...</td>\n",
       "      <td>[Real, User, Monitoring, analyzes, the, performance, of, all, user, interactions, with, your, ap...</td>\n",
       "      <td>[Real, User, Monitoring, analyzes, performance, user, interactions, applications, whether, inter...</td>\n",
       "    </tr>\n",
       "    <tr>\n",
       "      <th>4</th>\n",
       "      <td>Dynatrace supports Real User Monitoring for mobile apps as well. The process of monitoring the u...</td>\n",
       "      <td>Dynatrace supports Real User Monitoring for mobile apps as well The process of monitoring the us...</td>\n",
       "      <td>[Dynatrace, supports, Real, User, Monitoring, for, mobile, apps, as, well, The, process, of, mon...</td>\n",
       "      <td>[Dynatrace, supports, Real, User, Monitoring, mobile, apps, well, The, process, monitoring, user...</td>\n",
       "    </tr>\n",
       "  </tbody>\n",
       "</table>\n",
       "</div>"
      ],
      "text/plain": [
       "                                                                                              raw_data  \\\n",
       "0  Dynatrace is a software-intelligence monitoring platform that simplifies enterprise cloud comple...   \n",
       "1  Dynatrace seamlessly brings infrastructure and cloud, application performance, and digital exper...   \n",
       "2  Dynatrace provides the following capabilities for monitoring and analyzing the performance of al...   \n",
       "3  Real User Monitoring analyzes the performance of all user interactions with your applications, w...   \n",
       "4  Dynatrace supports Real User Monitoring for mobile apps as well. The process of monitoring the u...   \n",
       "\n",
       "                                                                                     remove_punct_data  \\\n",
       "0  Dynatrace is a softwareintelligence monitoring platform that simplifies enterprise cloud complex...   \n",
       "1  Dynatrace seamlessly brings infrastructure and cloud application performance and digital experie...   \n",
       "2  Dynatrace provides the following capabilities for monitoring and analyzing the performance of al...   \n",
       "3  Real User Monitoring analyzes the performance of all user interactions with your applications wh...   \n",
       "4  Dynatrace supports Real User Monitoring for mobile apps as well The process of monitoring the us...   \n",
       "\n",
       "                                                                                        tokenized_data  \\\n",
       "0  [Dynatrace, is, a, softwareintelligence, monitoring, platform, that, simplifies, enterprise, clo...   \n",
       "1  [Dynatrace, seamlessly, brings, infrastructure, and, cloud, application, performance, and, digit...   \n",
       "2  [Dynatrace, provides, the, following, capabilities, for, monitoring, and, analyzing, the, perfor...   \n",
       "3  [Real, User, Monitoring, analyzes, the, performance, of, all, user, interactions, with, your, ap...   \n",
       "4  [Dynatrace, supports, Real, User, Monitoring, for, mobile, apps, as, well, The, process, of, mon...   \n",
       "\n",
       "                                                                                     no_stopwords_data  \n",
       "0  [Dynatrace, softwareintelligence, monitoring, platform, simplifies, enterprise, cloud, complexit...  \n",
       "1  [Dynatrace, seamlessly, brings, infrastructure, cloud, application, performance, digital, experi...  \n",
       "2  [Dynatrace, provides, following, capabilities, monitoring, analyzing, performance, aspects, appl...  \n",
       "3  [Real, User, Monitoring, analyzes, performance, user, interactions, applications, whether, inter...  \n",
       "4  [Dynatrace, supports, Real, User, Monitoring, mobile, apps, well, The, process, monitoring, user...  "
      ]
     },
     "execution_count": 5,
     "metadata": {},
     "output_type": "execute_result"
    }
   ],
   "source": [
    "import nltk\n",
    "nltk.download('stopwords')\n",
    "stop_words = nltk.corpus.stopwords.words('english')\n",
    "\n",
    "def remove_stop_words(raw_words):\n",
    "    return [w for w in raw_words if w not in stop_words]\n",
    "\n",
    "df['no_stopwords_data'] = df.tokenized_data.apply(lambda x: remove_stop_words(x))\n",
    "df.head()"
   ]
  },
  {
   "cell_type": "markdown",
   "metadata": {},
   "source": [
    "## Stemming\n",
    "\n",
    "* Stemming does not seem to work very well. Some examples, `dynatrace` is stemmed to `dynatrac` :( "
   ]
  },
  {
   "cell_type": "code",
   "execution_count": 8,
   "metadata": {},
   "outputs": [
    {
     "data": {
      "text/html": [
       "<div>\n",
       "<style scoped>\n",
       "    .dataframe tbody tr th:only-of-type {\n",
       "        vertical-align: middle;\n",
       "    }\n",
       "\n",
       "    .dataframe tbody tr th {\n",
       "        vertical-align: top;\n",
       "    }\n",
       "\n",
       "    .dataframe thead th {\n",
       "        text-align: right;\n",
       "    }\n",
       "</style>\n",
       "<table border=\"1\" class=\"dataframe\">\n",
       "  <thead>\n",
       "    <tr style=\"text-align: right;\">\n",
       "      <th></th>\n",
       "      <th>raw_data</th>\n",
       "      <th>remove_punct_data</th>\n",
       "      <th>tokenized_data</th>\n",
       "      <th>no_stopwords_data</th>\n",
       "      <th>stemmed_data</th>\n",
       "    </tr>\n",
       "  </thead>\n",
       "  <tbody>\n",
       "    <tr>\n",
       "      <th>0</th>\n",
       "      <td>Dynatrace is a software-intelligence monitoring platform that simplifies enterprise cloud comple...</td>\n",
       "      <td>Dynatrace is a softwareintelligence monitoring platform that simplifies enterprise cloud complex...</td>\n",
       "      <td>[Dynatrace, is, a, softwareintelligence, monitoring, platform, that, simplifies, enterprise, clo...</td>\n",
       "      <td>[Dynatrace, softwareintelligence, monitoring, platform, simplifies, enterprise, cloud, complexit...</td>\n",
       "      <td>[dynatrac, softwareintellig, monitor, platform, simplifi, enterpris, cloud, complex, acceler, di...</td>\n",
       "    </tr>\n",
       "    <tr>\n",
       "      <th>1</th>\n",
       "      <td>Dynatrace seamlessly brings infrastructure and cloud, application performance, and digital exper...</td>\n",
       "      <td>Dynatrace seamlessly brings infrastructure and cloud application performance and digital experie...</td>\n",
       "      <td>[Dynatrace, seamlessly, brings, infrastructure, and, cloud, application, performance, and, digit...</td>\n",
       "      <td>[Dynatrace, seamlessly, brings, infrastructure, cloud, application, performance, digital, experi...</td>\n",
       "      <td>[dynatrac, seamlessli, bring, infrastructur, cloud, applic, perform, digit, experi, monitor, all...</td>\n",
       "    </tr>\n",
       "    <tr>\n",
       "      <th>2</th>\n",
       "      <td>Dynatrace provides the following capabilities for monitoring and analyzing the performance of al...</td>\n",
       "      <td>Dynatrace provides the following capabilities for monitoring and analyzing the performance of al...</td>\n",
       "      <td>[Dynatrace, provides, the, following, capabilities, for, monitoring, and, analyzing, the, perfor...</td>\n",
       "      <td>[Dynatrace, provides, following, capabilities, monitoring, analyzing, performance, aspects, appl...</td>\n",
       "      <td>[dynatrac, provid, follow, capabl, monitor, analyz, perform, aspect, applic, environ]</td>\n",
       "    </tr>\n",
       "    <tr>\n",
       "      <th>3</th>\n",
       "      <td>Real User Monitoring analyzes the performance of all user interactions with your applications, w...</td>\n",
       "      <td>Real User Monitoring analyzes the performance of all user interactions with your applications wh...</td>\n",
       "      <td>[Real, User, Monitoring, analyzes, the, performance, of, all, user, interactions, with, your, ap...</td>\n",
       "      <td>[Real, User, Monitoring, analyzes, performance, user, interactions, applications, whether, inter...</td>\n",
       "      <td>[real, user, monitor, analyz, perform, user, interact, applic, whether, interact, take, place, b...</td>\n",
       "    </tr>\n",
       "    <tr>\n",
       "      <th>4</th>\n",
       "      <td>Dynatrace supports Real User Monitoring for mobile apps as well. The process of monitoring the u...</td>\n",
       "      <td>Dynatrace supports Real User Monitoring for mobile apps as well The process of monitoring the us...</td>\n",
       "      <td>[Dynatrace, supports, Real, User, Monitoring, for, mobile, apps, as, well, The, process, of, mon...</td>\n",
       "      <td>[Dynatrace, supports, Real, User, Monitoring, mobile, apps, well, The, process, monitoring, user...</td>\n",
       "      <td>[dynatrac, support, real, user, monitor, mobil, app, well, the, process, monitor, user, experi, ...</td>\n",
       "    </tr>\n",
       "  </tbody>\n",
       "</table>\n",
       "</div>"
      ],
      "text/plain": [
       "                                                                                              raw_data  \\\n",
       "0  Dynatrace is a software-intelligence monitoring platform that simplifies enterprise cloud comple...   \n",
       "1  Dynatrace seamlessly brings infrastructure and cloud, application performance, and digital exper...   \n",
       "2  Dynatrace provides the following capabilities for monitoring and analyzing the performance of al...   \n",
       "3  Real User Monitoring analyzes the performance of all user interactions with your applications, w...   \n",
       "4  Dynatrace supports Real User Monitoring for mobile apps as well. The process of monitoring the u...   \n",
       "\n",
       "                                                                                     remove_punct_data  \\\n",
       "0  Dynatrace is a softwareintelligence monitoring platform that simplifies enterprise cloud complex...   \n",
       "1  Dynatrace seamlessly brings infrastructure and cloud application performance and digital experie...   \n",
       "2  Dynatrace provides the following capabilities for monitoring and analyzing the performance of al...   \n",
       "3  Real User Monitoring analyzes the performance of all user interactions with your applications wh...   \n",
       "4  Dynatrace supports Real User Monitoring for mobile apps as well The process of monitoring the us...   \n",
       "\n",
       "                                                                                        tokenized_data  \\\n",
       "0  [Dynatrace, is, a, softwareintelligence, monitoring, platform, that, simplifies, enterprise, clo...   \n",
       "1  [Dynatrace, seamlessly, brings, infrastructure, and, cloud, application, performance, and, digit...   \n",
       "2  [Dynatrace, provides, the, following, capabilities, for, monitoring, and, analyzing, the, perfor...   \n",
       "3  [Real, User, Monitoring, analyzes, the, performance, of, all, user, interactions, with, your, ap...   \n",
       "4  [Dynatrace, supports, Real, User, Monitoring, for, mobile, apps, as, well, The, process, of, mon...   \n",
       "\n",
       "                                                                                     no_stopwords_data  \\\n",
       "0  [Dynatrace, softwareintelligence, monitoring, platform, simplifies, enterprise, cloud, complexit...   \n",
       "1  [Dynatrace, seamlessly, brings, infrastructure, cloud, application, performance, digital, experi...   \n",
       "2  [Dynatrace, provides, following, capabilities, monitoring, analyzing, performance, aspects, appl...   \n",
       "3  [Real, User, Monitoring, analyzes, performance, user, interactions, applications, whether, inter...   \n",
       "4  [Dynatrace, supports, Real, User, Monitoring, mobile, apps, well, The, process, monitoring, user...   \n",
       "\n",
       "                                                                                          stemmed_data  \n",
       "0  [dynatrac, softwareintellig, monitor, platform, simplifi, enterpris, cloud, complex, acceler, di...  \n",
       "1  [dynatrac, seamlessli, bring, infrastructur, cloud, applic, perform, digit, experi, monitor, all...  \n",
       "2                [dynatrac, provid, follow, capabl, monitor, analyz, perform, aspect, applic, environ]  \n",
       "3  [real, user, monitor, analyz, perform, user, interact, applic, whether, interact, take, place, b...  \n",
       "4  [dynatrac, support, real, user, monitor, mobil, app, well, the, process, monitor, user, experi, ...  "
      ]
     },
     "execution_count": 8,
     "metadata": {},
     "output_type": "execute_result"
    }
   ],
   "source": [
    "import nltk\n",
    "ps = nltk.PorterStemmer()\n",
    "\n",
    "def stem(raw_data):\n",
    "    return [ps.stem(word) for word in raw_data]\n",
    "\n",
    "df['stemmed_data'] = df.no_stopwords_data.apply(lambda x: stem(x))\n",
    "df.head()"
   ]
  },
  {
   "cell_type": "markdown",
   "metadata": {},
   "source": [
    "## Lemmatizing vs Stemming  \n",
    "\n",
    "* For the corpus of words from the Dynatrace documentation, Stemming corrupted some really simple words like `mobile`. \n",
    "* Lemmatizing however, retains the original word. \n"
   ]
  },
  {
   "cell_type": "code",
   "execution_count": 15,
   "metadata": {},
   "outputs": [
    {
     "name": "stdout",
     "output_type": "stream",
     "text": [
      "['Dynatrace', 'enterprise', 'mobile']\n",
      "['dynatrac', 'enterpris', 'mobil']\n"
     ]
    },
    {
     "name": "stderr",
     "output_type": "stream",
     "text": [
      "[nltk_data] Downloading package wordnet to /home/savis/nltk_data...\n",
      "[nltk_data]   Package wordnet is already up-to-date!\n"
     ]
    }
   ],
   "source": [
    "import nltk\n",
    "nltk.download('wordnet')\n",
    "wn = nltk.WordNetLemmatizer()\n",
    "ps = nltk.PorterStemmer() \n",
    "\n",
    "words = ['Dynatrace','enterprise','mobile']\n",
    "print([wn.lemmatize(word) for word in words])\n",
    "print([ps.stem(word) for word in words])"
   ]
  },
  {
   "cell_type": "markdown",
   "metadata": {},
   "source": [
    "### Lemmatizing the data\n"
   ]
  },
  {
   "cell_type": "code",
   "execution_count": 17,
   "metadata": {},
   "outputs": [
    {
     "name": "stderr",
     "output_type": "stream",
     "text": [
      "[nltk_data] Downloading package wordnet to /home/savis/nltk_data...\n",
      "[nltk_data]   Package wordnet is already up-to-date!\n"
     ]
    },
    {
     "data": {
      "text/html": [
       "<div>\n",
       "<style scoped>\n",
       "    .dataframe tbody tr th:only-of-type {\n",
       "        vertical-align: middle;\n",
       "    }\n",
       "\n",
       "    .dataframe tbody tr th {\n",
       "        vertical-align: top;\n",
       "    }\n",
       "\n",
       "    .dataframe thead th {\n",
       "        text-align: right;\n",
       "    }\n",
       "</style>\n",
       "<table border=\"1\" class=\"dataframe\">\n",
       "  <thead>\n",
       "    <tr style=\"text-align: right;\">\n",
       "      <th></th>\n",
       "      <th>raw_data</th>\n",
       "      <th>remove_punct_data</th>\n",
       "      <th>tokenized_data</th>\n",
       "      <th>no_stopwords_data</th>\n",
       "      <th>stemmed_data</th>\n",
       "      <th>lemmatized_data</th>\n",
       "    </tr>\n",
       "  </thead>\n",
       "  <tbody>\n",
       "    <tr>\n",
       "      <th>0</th>\n",
       "      <td>Dynatrace is a software-intelligence monitoring platform that simplifies enterprise cloud comple...</td>\n",
       "      <td>Dynatrace is a softwareintelligence monitoring platform that simplifies enterprise cloud complex...</td>\n",
       "      <td>[Dynatrace, is, a, softwareintelligence, monitoring, platform, that, simplifies, enterprise, clo...</td>\n",
       "      <td>[Dynatrace, softwareintelligence, monitoring, platform, simplifies, enterprise, cloud, complexit...</td>\n",
       "      <td>[dynatrac, softwareintellig, monitor, platform, simplifi, enterpris, cloud, complex, acceler, di...</td>\n",
       "      <td>[Dynatrace, softwareintelligence, monitoring, platform, simplifies, enterprise, cloud, complexit...</td>\n",
       "    </tr>\n",
       "    <tr>\n",
       "      <th>1</th>\n",
       "      <td>Dynatrace seamlessly brings infrastructure and cloud, application performance, and digital exper...</td>\n",
       "      <td>Dynatrace seamlessly brings infrastructure and cloud application performance and digital experie...</td>\n",
       "      <td>[Dynatrace, seamlessly, brings, infrastructure, and, cloud, application, performance, and, digit...</td>\n",
       "      <td>[Dynatrace, seamlessly, brings, infrastructure, cloud, application, performance, digital, experi...</td>\n",
       "      <td>[dynatrac, seamlessli, bring, infrastructur, cloud, applic, perform, digit, experi, monitor, all...</td>\n",
       "      <td>[Dynatrace, seamlessly, brings, infrastructure, cloud, application, performance, digital, experi...</td>\n",
       "    </tr>\n",
       "    <tr>\n",
       "      <th>2</th>\n",
       "      <td>Dynatrace provides the following capabilities for monitoring and analyzing the performance of al...</td>\n",
       "      <td>Dynatrace provides the following capabilities for monitoring and analyzing the performance of al...</td>\n",
       "      <td>[Dynatrace, provides, the, following, capabilities, for, monitoring, and, analyzing, the, perfor...</td>\n",
       "      <td>[Dynatrace, provides, following, capabilities, monitoring, analyzing, performance, aspects, appl...</td>\n",
       "      <td>[dynatrac, provid, follow, capabl, monitor, analyz, perform, aspect, applic, environ]</td>\n",
       "      <td>[Dynatrace, provides, following, capability, monitoring, analyzing, performance, aspect, applica...</td>\n",
       "    </tr>\n",
       "    <tr>\n",
       "      <th>3</th>\n",
       "      <td>Real User Monitoring analyzes the performance of all user interactions with your applications, w...</td>\n",
       "      <td>Real User Monitoring analyzes the performance of all user interactions with your applications wh...</td>\n",
       "      <td>[Real, User, Monitoring, analyzes, the, performance, of, all, user, interactions, with, your, ap...</td>\n",
       "      <td>[Real, User, Monitoring, analyzes, performance, user, interactions, applications, whether, inter...</td>\n",
       "      <td>[real, user, monitor, analyz, perform, user, interact, applic, whether, interact, take, place, b...</td>\n",
       "      <td>[Real, User, Monitoring, analyzes, performance, user, interaction, application, whether, interac...</td>\n",
       "    </tr>\n",
       "    <tr>\n",
       "      <th>4</th>\n",
       "      <td>Dynatrace supports Real User Monitoring for mobile apps as well. The process of monitoring the u...</td>\n",
       "      <td>Dynatrace supports Real User Monitoring for mobile apps as well The process of monitoring the us...</td>\n",
       "      <td>[Dynatrace, supports, Real, User, Monitoring, for, mobile, apps, as, well, The, process, of, mon...</td>\n",
       "      <td>[Dynatrace, supports, Real, User, Monitoring, mobile, apps, well, The, process, monitoring, user...</td>\n",
       "      <td>[dynatrac, support, real, user, monitor, mobil, app, well, the, process, monitor, user, experi, ...</td>\n",
       "      <td>[Dynatrace, support, Real, User, Monitoring, mobile, apps, well, The, process, monitoring, user,...</td>\n",
       "    </tr>\n",
       "  </tbody>\n",
       "</table>\n",
       "</div>"
      ],
      "text/plain": [
       "                                                                                              raw_data  \\\n",
       "0  Dynatrace is a software-intelligence monitoring platform that simplifies enterprise cloud comple...   \n",
       "1  Dynatrace seamlessly brings infrastructure and cloud, application performance, and digital exper...   \n",
       "2  Dynatrace provides the following capabilities for monitoring and analyzing the performance of al...   \n",
       "3  Real User Monitoring analyzes the performance of all user interactions with your applications, w...   \n",
       "4  Dynatrace supports Real User Monitoring for mobile apps as well. The process of monitoring the u...   \n",
       "\n",
       "                                                                                     remove_punct_data  \\\n",
       "0  Dynatrace is a softwareintelligence monitoring platform that simplifies enterprise cloud complex...   \n",
       "1  Dynatrace seamlessly brings infrastructure and cloud application performance and digital experie...   \n",
       "2  Dynatrace provides the following capabilities for monitoring and analyzing the performance of al...   \n",
       "3  Real User Monitoring analyzes the performance of all user interactions with your applications wh...   \n",
       "4  Dynatrace supports Real User Monitoring for mobile apps as well The process of monitoring the us...   \n",
       "\n",
       "                                                                                        tokenized_data  \\\n",
       "0  [Dynatrace, is, a, softwareintelligence, monitoring, platform, that, simplifies, enterprise, clo...   \n",
       "1  [Dynatrace, seamlessly, brings, infrastructure, and, cloud, application, performance, and, digit...   \n",
       "2  [Dynatrace, provides, the, following, capabilities, for, monitoring, and, analyzing, the, perfor...   \n",
       "3  [Real, User, Monitoring, analyzes, the, performance, of, all, user, interactions, with, your, ap...   \n",
       "4  [Dynatrace, supports, Real, User, Monitoring, for, mobile, apps, as, well, The, process, of, mon...   \n",
       "\n",
       "                                                                                     no_stopwords_data  \\\n",
       "0  [Dynatrace, softwareintelligence, monitoring, platform, simplifies, enterprise, cloud, complexit...   \n",
       "1  [Dynatrace, seamlessly, brings, infrastructure, cloud, application, performance, digital, experi...   \n",
       "2  [Dynatrace, provides, following, capabilities, monitoring, analyzing, performance, aspects, appl...   \n",
       "3  [Real, User, Monitoring, analyzes, performance, user, interactions, applications, whether, inter...   \n",
       "4  [Dynatrace, supports, Real, User, Monitoring, mobile, apps, well, The, process, monitoring, user...   \n",
       "\n",
       "                                                                                          stemmed_data  \\\n",
       "0  [dynatrac, softwareintellig, monitor, platform, simplifi, enterpris, cloud, complex, acceler, di...   \n",
       "1  [dynatrac, seamlessli, bring, infrastructur, cloud, applic, perform, digit, experi, monitor, all...   \n",
       "2                [dynatrac, provid, follow, capabl, monitor, analyz, perform, aspect, applic, environ]   \n",
       "3  [real, user, monitor, analyz, perform, user, interact, applic, whether, interact, take, place, b...   \n",
       "4  [dynatrac, support, real, user, monitor, mobil, app, well, the, process, monitor, user, experi, ...   \n",
       "\n",
       "                                                                                       lemmatized_data  \n",
       "0  [Dynatrace, softwareintelligence, monitoring, platform, simplifies, enterprise, cloud, complexit...  \n",
       "1  [Dynatrace, seamlessly, brings, infrastructure, cloud, application, performance, digital, experi...  \n",
       "2  [Dynatrace, provides, following, capability, monitoring, analyzing, performance, aspect, applica...  \n",
       "3  [Real, User, Monitoring, analyzes, performance, user, interaction, application, whether, interac...  \n",
       "4  [Dynatrace, support, Real, User, Monitoring, mobile, apps, well, The, process, monitoring, user,...  "
      ]
     },
     "execution_count": 17,
     "metadata": {},
     "output_type": "execute_result"
    }
   ],
   "source": [
    "import nltk\n",
    "nltk.download('wordnet')\n",
    "wn = nltk.WordNetLemmatizer()\n",
    "\n",
    "def lemmatize(word_list):\n",
    "    return [wn.lemmatize(word) for word in word_list]\n",
    "\n",
    "df['lemmatized_data'] = df.no_stopwords_data.apply(lambda x : lemmatize(x))\n",
    "df.head()"
   ]
  },
  {
   "cell_type": "code",
   "execution_count": null,
   "metadata": {},
   "outputs": [],
   "source": []
  }
 ],
 "metadata": {
  "kernelspec": {
   "display_name": "Python 3",
   "language": "python",
   "name": "python3"
  },
  "language_info": {
   "codemirror_mode": {
    "name": "ipython",
    "version": 3
   },
   "file_extension": ".py",
   "mimetype": "text/x-python",
   "name": "python",
   "nbconvert_exporter": "python",
   "pygments_lexer": "ipython3",
   "version": "3.8.2"
  }
 },
 "nbformat": 4,
 "nbformat_minor": 4
}
